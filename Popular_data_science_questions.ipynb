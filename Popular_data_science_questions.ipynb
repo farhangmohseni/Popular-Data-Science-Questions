{
 "cells": [
  {
   "cell_type": "markdown",
   "metadata": {},
   "source": [
    "# Popular Data Science Questions"
   ]
  },
  {
   "cell_type": "markdown",
   "metadata": {},
   "source": [
    "The objective of this project is to use Data Science Stack Exchange to determine what content should a data science education company create, based on interest by subject."
   ]
  },
  {
   "cell_type": "markdown",
   "metadata": {},
   "source": [
    "Here's a link to query and explore Data Science Stack Exchange's database:https://data.stackexchange.com/datascience/query/new\n",
    "\n",
    "To get the relevant data we run the following query.\n",
    "\n",
    "SELECT Id, CreationDate,\n",
    "       Score, ViewCount, Tags,\n",
    "       AnswerCount, FavoriteCount\n",
    "  FROM posts\n",
    " WHERE PostTypeId = 1 AND YEAR(CreationDate) = 2019;\n"
   ]
  },
  {
   "cell_type": "code",
   "execution_count": 31,
   "metadata": {
    "collapsed": false
   },
   "outputs": [],
   "source": [
    "import pandas as pd\n",
    "quest19 = pd.read_csv('2019_questions.csv', parse_dates=['CreationDate'])"
   ]
  },
  {
   "cell_type": "code",
   "execution_count": 32,
   "metadata": {
    "collapsed": false,
    "scrolled": false
   },
   "outputs": [
    {
     "name": "stdout",
     "output_type": "stream",
     "text": [
      "<class 'pandas.core.frame.DataFrame'>\n",
      "RangeIndex: 8839 entries, 0 to 8838\n",
      "Data columns (total 7 columns):\n",
      "Id               8839 non-null int64\n",
      "CreationDate     8839 non-null datetime64[ns]\n",
      "Score            8839 non-null int64\n",
      "ViewCount        8839 non-null int64\n",
      "Tags             8839 non-null object\n",
      "AnswerCount      8839 non-null int64\n",
      "FavoriteCount    1407 non-null float64\n",
      "dtypes: datetime64[ns](1), float64(1), int64(4), object(1)\n",
      "memory usage: 483.5+ KB\n"
     ]
    }
   ],
   "source": [
    "quest19.info()"
   ]
  },
  {
   "cell_type": "code",
   "execution_count": 33,
   "metadata": {
    "collapsed": false,
    "scrolled": false
   },
   "outputs": [
    {
     "data": {
      "text/html": [
       "<div>\n",
       "<style scoped>\n",
       "    .dataframe tbody tr th:only-of-type {\n",
       "        vertical-align: middle;\n",
       "    }\n",
       "\n",
       "    .dataframe tbody tr th {\n",
       "        vertical-align: top;\n",
       "    }\n",
       "\n",
       "    .dataframe thead th {\n",
       "        text-align: right;\n",
       "    }\n",
       "</style>\n",
       "<table border=\"1\" class=\"dataframe\">\n",
       "  <thead>\n",
       "    <tr style=\"text-align: right;\">\n",
       "      <th></th>\n",
       "      <th>Id</th>\n",
       "      <th>CreationDate</th>\n",
       "      <th>Score</th>\n",
       "      <th>ViewCount</th>\n",
       "      <th>Tags</th>\n",
       "      <th>AnswerCount</th>\n",
       "      <th>FavoriteCount</th>\n",
       "    </tr>\n",
       "  </thead>\n",
       "  <tbody>\n",
       "    <tr>\n",
       "      <th>7147</th>\n",
       "      <td>53885</td>\n",
       "      <td>2019-06-16 05:28:29</td>\n",
       "      <td>0</td>\n",
       "      <td>15</td>\n",
       "      <td>&lt;encoding&gt;&lt;binary&gt;</td>\n",
       "      <td>0</td>\n",
       "      <td>NaN</td>\n",
       "    </tr>\n",
       "    <tr>\n",
       "      <th>7946</th>\n",
       "      <td>44072</td>\n",
       "      <td>2019-01-16 06:12:30</td>\n",
       "      <td>0</td>\n",
       "      <td>201</td>\n",
       "      <td>&lt;visualization&gt;&lt;data&gt;&lt;correlation&gt;&lt;probability&gt;</td>\n",
       "      <td>2</td>\n",
       "      <td>NaN</td>\n",
       "    </tr>\n",
       "    <tr>\n",
       "      <th>2294</th>\n",
       "      <td>58415</td>\n",
       "      <td>2019-08-30 10:17:39</td>\n",
       "      <td>1</td>\n",
       "      <td>329</td>\n",
       "      <td>&lt;neural-network&gt;&lt;pytorch&gt;</td>\n",
       "      <td>1</td>\n",
       "      <td>NaN</td>\n",
       "    </tr>\n",
       "    <tr>\n",
       "      <th>1506</th>\n",
       "      <td>45965</td>\n",
       "      <td>2019-02-21 15:24:11</td>\n",
       "      <td>1</td>\n",
       "      <td>36</td>\n",
       "      <td>&lt;machine-learning&gt;&lt;python&gt;&lt;neural-network&gt;</td>\n",
       "      <td>0</td>\n",
       "      <td>NaN</td>\n",
       "    </tr>\n",
       "    <tr>\n",
       "      <th>4679</th>\n",
       "      <td>51214</td>\n",
       "      <td>2019-05-01 10:13:13</td>\n",
       "      <td>2</td>\n",
       "      <td>73</td>\n",
       "      <td>&lt;machine-learning&gt;&lt;classification&gt;&lt;machine-lea...</td>\n",
       "      <td>1</td>\n",
       "      <td>NaN</td>\n",
       "    </tr>\n",
       "    <tr>\n",
       "      <th>4648</th>\n",
       "      <td>62006</td>\n",
       "      <td>2019-10-20 20:17:20</td>\n",
       "      <td>1</td>\n",
       "      <td>18</td>\n",
       "      <td>&lt;machine-learning&gt;&lt;keras&gt;&lt;scikit-learn&gt;</td>\n",
       "      <td>0</td>\n",
       "      <td>NaN</td>\n",
       "    </tr>\n",
       "    <tr>\n",
       "      <th>7705</th>\n",
       "      <td>54181</td>\n",
       "      <td>2019-06-21 00:01:08</td>\n",
       "      <td>1</td>\n",
       "      <td>22</td>\n",
       "      <td>&lt;bigdata&gt;&lt;apache-spark&gt;&lt;scala&gt;</td>\n",
       "      <td>0</td>\n",
       "      <td>NaN</td>\n",
       "    </tr>\n",
       "    <tr>\n",
       "      <th>3818</th>\n",
       "      <td>49297</td>\n",
       "      <td>2019-04-15 02:36:29</td>\n",
       "      <td>1</td>\n",
       "      <td>154</td>\n",
       "      <td>&lt;machine-learning&gt;&lt;xgboost&gt;&lt;kaggle&gt;&lt;grid-searc...</td>\n",
       "      <td>1</td>\n",
       "      <td>NaN</td>\n",
       "    </tr>\n",
       "    <tr>\n",
       "      <th>5638</th>\n",
       "      <td>52287</td>\n",
       "      <td>2019-05-20 22:58:43</td>\n",
       "      <td>0</td>\n",
       "      <td>49</td>\n",
       "      <td>&lt;machine-learning&gt;&lt;r&gt;&lt;regression&gt;&lt;predictive-m...</td>\n",
       "      <td>0</td>\n",
       "      <td>NaN</td>\n",
       "    </tr>\n",
       "    <tr>\n",
       "      <th>1848</th>\n",
       "      <td>46646</td>\n",
       "      <td>2019-03-04 15:09:30</td>\n",
       "      <td>3</td>\n",
       "      <td>245</td>\n",
       "      <td>&lt;r&gt;&lt;cross-validation&gt;&lt;unbalanced-classes&gt;&lt;over...</td>\n",
       "      <td>1</td>\n",
       "      <td>1.0</td>\n",
       "    </tr>\n",
       "  </tbody>\n",
       "</table>\n",
       "</div>"
      ],
      "text/plain": [
       "         Id        CreationDate  Score  ViewCount  \\\n",
       "7147  53885 2019-06-16 05:28:29      0         15   \n",
       "7946  44072 2019-01-16 06:12:30      0        201   \n",
       "2294  58415 2019-08-30 10:17:39      1        329   \n",
       "1506  45965 2019-02-21 15:24:11      1         36   \n",
       "4679  51214 2019-05-01 10:13:13      2         73   \n",
       "4648  62006 2019-10-20 20:17:20      1         18   \n",
       "7705  54181 2019-06-21 00:01:08      1         22   \n",
       "3818  49297 2019-04-15 02:36:29      1        154   \n",
       "5638  52287 2019-05-20 22:58:43      0         49   \n",
       "1848  46646 2019-03-04 15:09:30      3        245   \n",
       "\n",
       "                                                   Tags  AnswerCount  \\\n",
       "7147                                 <encoding><binary>            0   \n",
       "7946    <visualization><data><correlation><probability>            2   \n",
       "2294                          <neural-network><pytorch>            1   \n",
       "1506         <machine-learning><python><neural-network>            0   \n",
       "4679  <machine-learning><classification><machine-lea...            1   \n",
       "4648            <machine-learning><keras><scikit-learn>            0   \n",
       "7705                     <bigdata><apache-spark><scala>            0   \n",
       "3818  <machine-learning><xgboost><kaggle><grid-searc...            1   \n",
       "5638  <machine-learning><r><regression><predictive-m...            0   \n",
       "1848  <r><cross-validation><unbalanced-classes><over...            1   \n",
       "\n",
       "      FavoriteCount  \n",
       "7147            NaN  \n",
       "7946            NaN  \n",
       "2294            NaN  \n",
       "1506            NaN  \n",
       "4679            NaN  \n",
       "4648            NaN  \n",
       "7705            NaN  \n",
       "3818            NaN  \n",
       "5638            NaN  \n",
       "1848            1.0  "
      ]
     },
     "execution_count": 33,
     "metadata": {},
     "output_type": "execute_result"
    }
   ],
   "source": [
    "quest19.sample(10)"
   ]
  },
  {
   "cell_type": "markdown",
   "metadata": {},
   "source": [
    "-----------\n",
    "Cleaning Data\n",
    "--------"
   ]
  },
  {
   "cell_type": "markdown",
   "metadata": {},
   "source": [
    "replacing missing values in FavoriteCount by 0:"
   ]
  },
  {
   "cell_type": "code",
   "execution_count": 34,
   "metadata": {
    "collapsed": true
   },
   "outputs": [],
   "source": [
    "quest19['FavoriteCount'].fillna(0, inplace=True)"
   ]
  },
  {
   "cell_type": "markdown",
   "metadata": {},
   "source": [
    "Changing FavoriteCount type to integer:"
   ]
  },
  {
   "cell_type": "code",
   "execution_count": 35,
   "metadata": {
    "collapsed": true
   },
   "outputs": [],
   "source": [
    "quest19['FavoriteCount'] = quest19['FavoriteCount'].astype(int)"
   ]
  },
  {
   "cell_type": "code",
   "execution_count": 36,
   "metadata": {
    "collapsed": false
   },
   "outputs": [
    {
     "name": "stdout",
     "output_type": "stream",
     "text": [
      "<class 'pandas.core.frame.DataFrame'>\n",
      "RangeIndex: 8839 entries, 0 to 8838\n",
      "Data columns (total 7 columns):\n",
      "Id               8839 non-null int64\n",
      "CreationDate     8839 non-null datetime64[ns]\n",
      "Score            8839 non-null int64\n",
      "ViewCount        8839 non-null int64\n",
      "Tags             8839 non-null object\n",
      "AnswerCount      8839 non-null int64\n",
      "FavoriteCount    8839 non-null int64\n",
      "dtypes: datetime64[ns](1), int64(5), object(1)\n",
      "memory usage: 483.5+ KB\n"
     ]
    }
   ],
   "source": [
    "quest19.info()"
   ]
  },
  {
   "cell_type": "code",
   "execution_count": 37,
   "metadata": {
    "collapsed": false
   },
   "outputs": [
    {
     "data": {
      "text/html": [
       "<div>\n",
       "<style scoped>\n",
       "    .dataframe tbody tr th:only-of-type {\n",
       "        vertical-align: middle;\n",
       "    }\n",
       "\n",
       "    .dataframe tbody tr th {\n",
       "        vertical-align: top;\n",
       "    }\n",
       "\n",
       "    .dataframe thead th {\n",
       "        text-align: right;\n",
       "    }\n",
       "</style>\n",
       "<table border=\"1\" class=\"dataframe\">\n",
       "  <thead>\n",
       "    <tr style=\"text-align: right;\">\n",
       "      <th></th>\n",
       "      <th>Id</th>\n",
       "      <th>Score</th>\n",
       "      <th>ViewCount</th>\n",
       "      <th>AnswerCount</th>\n",
       "      <th>FavoriteCount</th>\n",
       "    </tr>\n",
       "  </thead>\n",
       "  <tbody>\n",
       "    <tr>\n",
       "      <th>count</th>\n",
       "      <td>8839.000000</td>\n",
       "      <td>8839.000000</td>\n",
       "      <td>8839.000000</td>\n",
       "      <td>8839.000000</td>\n",
       "      <td>8839.000000</td>\n",
       "    </tr>\n",
       "    <tr>\n",
       "      <th>mean</th>\n",
       "      <td>54724.172870</td>\n",
       "      <td>0.870687</td>\n",
       "      <td>171.548026</td>\n",
       "      <td>0.787985</td>\n",
       "      <td>0.188596</td>\n",
       "    </tr>\n",
       "    <tr>\n",
       "      <th>std</th>\n",
       "      <td>6507.618509</td>\n",
       "      <td>1.410255</td>\n",
       "      <td>772.813626</td>\n",
       "      <td>0.851146</td>\n",
       "      <td>0.584422</td>\n",
       "    </tr>\n",
       "    <tr>\n",
       "      <th>min</th>\n",
       "      <td>43363.000000</td>\n",
       "      <td>-2.000000</td>\n",
       "      <td>2.000000</td>\n",
       "      <td>0.000000</td>\n",
       "      <td>0.000000</td>\n",
       "    </tr>\n",
       "    <tr>\n",
       "      <th>25%</th>\n",
       "      <td>48917.500000</td>\n",
       "      <td>0.000000</td>\n",
       "      <td>22.000000</td>\n",
       "      <td>0.000000</td>\n",
       "      <td>0.000000</td>\n",
       "    </tr>\n",
       "    <tr>\n",
       "      <th>50%</th>\n",
       "      <td>54833.000000</td>\n",
       "      <td>1.000000</td>\n",
       "      <td>40.000000</td>\n",
       "      <td>1.000000</td>\n",
       "      <td>0.000000</td>\n",
       "    </tr>\n",
       "    <tr>\n",
       "      <th>75%</th>\n",
       "      <td>60674.500000</td>\n",
       "      <td>1.000000</td>\n",
       "      <td>98.000000</td>\n",
       "      <td>1.000000</td>\n",
       "      <td>0.000000</td>\n",
       "    </tr>\n",
       "    <tr>\n",
       "      <th>max</th>\n",
       "      <td>65675.000000</td>\n",
       "      <td>45.000000</td>\n",
       "      <td>33203.000000</td>\n",
       "      <td>9.000000</td>\n",
       "      <td>16.000000</td>\n",
       "    </tr>\n",
       "  </tbody>\n",
       "</table>\n",
       "</div>"
      ],
      "text/plain": [
       "                 Id        Score     ViewCount  AnswerCount  FavoriteCount\n",
       "count   8839.000000  8839.000000   8839.000000  8839.000000    8839.000000\n",
       "mean   54724.172870     0.870687    171.548026     0.787985       0.188596\n",
       "std     6507.618509     1.410255    772.813626     0.851146       0.584422\n",
       "min    43363.000000    -2.000000      2.000000     0.000000       0.000000\n",
       "25%    48917.500000     0.000000     22.000000     0.000000       0.000000\n",
       "50%    54833.000000     1.000000     40.000000     1.000000       0.000000\n",
       "75%    60674.500000     1.000000     98.000000     1.000000       0.000000\n",
       "max    65675.000000    45.000000  33203.000000     9.000000      16.000000"
      ]
     },
     "execution_count": 37,
     "metadata": {},
     "output_type": "execute_result"
    }
   ],
   "source": [
    "quest19.describe()"
   ]
  },
  {
   "cell_type": "markdown",
   "metadata": {},
   "source": [
    "Creating a list for all the tags in Tags:"
   ]
  },
  {
   "cell_type": "code",
   "execution_count": 38,
   "metadata": {
    "collapsed": false
   },
   "outputs": [],
   "source": [
    "quest19['Tags'] = quest19['Tags'].str[1:-1].str.split('><')"
   ]
  },
  {
   "cell_type": "code",
   "execution_count": 39,
   "metadata": {
    "collapsed": false
   },
   "outputs": [
    {
     "data": {
      "text/plain": [
       "5794                            [clustering, terminology]\n",
       "6521                              [classification, tfidf]\n",
       "7233    [machine-learning, deep-learning, data-science...\n",
       "3489                             [machine-learning, k-nn]\n",
       "3469                                             [python]\n",
       "3160                       [scikit-learn, decision-trees]\n",
       "1219    [python, visualization, correlation, matplotli...\n",
       "3669                                        [correlation]\n",
       "194                    [deep-learning, keras, tensorflow]\n",
       "6084    [classification, multiclass-classification, ev...\n",
       "Name: Tags, dtype: object"
      ]
     },
     "execution_count": 39,
     "metadata": {},
     "output_type": "execute_result"
    }
   ],
   "source": [
    "quest19['Tags'].sample(10)"
   ]
  },
  {
   "cell_type": "markdown",
   "metadata": {},
   "source": [
    "---------\n",
    "Most Used and Most Viewed Tags\n",
    "----------"
   ]
  },
  {
   "cell_type": "code",
   "execution_count": 55,
   "metadata": {
    "collapsed": false
   },
   "outputs": [],
   "source": [
    "tags_used = {}\n",
    "for i in quest19['Tags']:\n",
    "    for j in i:\n",
    "        if j in tags_used:\n",
    "            tags_used[j] += 1\n",
    "        else:\n",
    "            tags_used[j] = 1\n"
   ]
  },
  {
   "cell_type": "code",
   "execution_count": 56,
   "metadata": {
    "collapsed": false
   },
   "outputs": [],
   "source": [
    "serie_tags_used = pd.DataFrame.from_dict(tags_used, orient='index')\n",
    "serie_tags_used.rename(columns={0:'used'}, inplace=True)\n",
    " "
   ]
  },
  {
   "cell_type": "code",
   "execution_count": 57,
   "metadata": {
    "collapsed": false
   },
   "outputs": [],
   "source": [
    "top10_used = serie_tags_used['used'].sort_values(ascending=False)\\\n",
    ".head(10)"
   ]
  },
  {
   "cell_type": "code",
   "execution_count": 143,
   "metadata": {
    "collapsed": false
   },
   "outputs": [
    {
     "data": {
      "text/plain": [
       "<matplotlib.text.Text at 0x7f71c70b2fd0>"
      ]
     },
     "execution_count": 143,
     "metadata": {},
     "output_type": "execute_result"
    },
    {
     "data": {
      "image/png": "[encoded data removed]",
      "text/plain": [
       "<matplotlib.figure.Figure at 0x7f71c7094898>"
      ]
     },
     "metadata": {},
     "output_type": "display_data"
    }
   ],
   "source": [
    "%matplotlib inline\n",
    "ax = top10_used.plot('bar', color='orange')\n",
    "ax.set_ylabel('used')"
   ]
  },
  {
   "cell_type": "markdown",
   "metadata": {},
   "source": [
    "Machien-learning, python and deep learning are the 3 most used tags"
   ]
  },
  {
   "cell_type": "code",
   "execution_count": 59,
   "metadata": {
    "collapsed": false
   },
   "outputs": [],
   "source": [
    "tags_viewed = {}\n",
    "index = quest19.index.tolist()\n",
    "for i in index:\n",
    "    for j in quest19.loc[i,'Tags']:\n",
    "        if j in tags_viewed:\n",
    "            tags_viewed[j] += quest19.loc[i,'ViewCount']\n",
    "        else:\n",
    "            tags_viewed[j] = quest19.loc[i,'ViewCount']\n"
   ]
  },
  {
   "cell_type": "code",
   "execution_count": 61,
   "metadata": {
    "collapsed": false
   },
   "outputs": [],
   "source": [
    "serie_tags_viewed = pd.DataFrame.from_dict(tags_viewed, orient='index')\n",
    "serie_tags_viewed.rename(columns={0:'viewed'}, inplace=True)\n",
    " "
   ]
  },
  {
   "cell_type": "code",
   "execution_count": 141,
   "metadata": {
    "collapsed": false
   },
   "outputs": [
    {
     "data": {
      "text/plain": [
       "<matplotlib.text.Text at 0x7f71c69f2f60>"
      ]
     },
     "execution_count": 141,
     "metadata": {},
     "output_type": "execute_result"
    },
    {
     "data": {
      "image/png": "[encoded data removed]",
      "text/plain": [
       "<matplotlib.figure.Figure at 0x7f71c7624fd0>"
      ]
     },
     "metadata": {},
     "output_type": "display_data"
    }
   ],
   "source": [
    "top10_viewed = serie_tags_viewed['viewed'].sort_values(ascending=False)\\\n",
    ".head(10)\n",
    "ax = top10_viewed.plot('bar', color='green')\n",
    "ax.set_ylabel('viewed')"
   ]
  },
  {
   "cell_type": "markdown",
   "metadata": {},
   "source": [
    "Python machine-learning and keras are the 3 most viewed tags"
   ]
  },
  {
   "cell_type": "markdown",
   "metadata": {},
   "source": [
    "--------\n",
    "Relations Between Tags\n",
    "------------"
   ]
  },
  {
   "cell_type": "code",
   "execution_count": 74,
   "metadata": {
    "collapsed": false
   },
   "outputs": [],
   "source": [
    "set1 = set(top10_viewed.index.tolist())\n",
    "set2 = set(top10_used.index.tolist())"
   ]
  },
  {
   "cell_type": "code",
   "execution_count": 75,
   "metadata": {
    "collapsed": false
   },
   "outputs": [],
   "source": [
    "top10_used_viewed = top10_used.index.tolist() + list(set1-set2)"
   ]
  },
  {
   "cell_type": "code",
   "execution_count": 77,
   "metadata": {
    "collapsed": false
   },
   "outputs": [
    {
     "data": {
      "text/plain": [
       "['machine-learning',\n",
       " 'python',\n",
       " 'deep-learning',\n",
       " 'neural-network',\n",
       " 'keras',\n",
       " 'classification',\n",
       " 'tensorflow',\n",
       " 'scikit-learn',\n",
       " 'nlp',\n",
       " 'cnn',\n",
       " 'pandas',\n",
       " 'dataframe']"
      ]
     },
     "execution_count": 77,
     "metadata": {},
     "output_type": "execute_result"
    }
   ],
   "source": [
    "top10_used_viewed"
   ]
  },
  {
   "cell_type": "code",
   "execution_count": 95,
   "metadata": {
    "collapsed": true
   },
   "outputs": [],
   "source": [
    "correlation = pd.DataFrame(columns=serie_tags_viewed.index,\\\n",
    "                           index=serie_tags_viewed.index)"
   ]
  },
  {
   "cell_type": "code",
   "execution_count": 98,
   "metadata": {
    "collapsed": false
   },
   "outputs": [],
   "source": [
    "correlation.fillna(0, inplace=True)\n",
    "for i in quest19['Tags']:\n",
    "    correlation.loc[i,i] += 1"
   ]
  },
  {
   "cell_type": "code",
   "execution_count": 100,
   "metadata": {
    "collapsed": false
   },
   "outputs": [],
   "source": [
    "correlation_top10 = correlation.loc[top10_used_viewed, top10_used_viewed]"
   ]
  },
  {
   "cell_type": "code",
   "execution_count": 103,
   "metadata": {
    "collapsed": false
   },
   "outputs": [],
   "source": [
    "for i in top10_used_viewed:\n",
    "    correlation_top10.loc[i,i] = 0"
   ]
  },
  {
   "cell_type": "code",
   "execution_count": 104,
   "metadata": {
    "collapsed": false
   },
   "outputs": [
    {
     "data": {
      "text/plain": [
       "<matplotlib.axes._subplots.AxesSubplot at 0x7f71c78d5780>"
      ]
     },
     "execution_count": 104,
     "metadata": {},
     "output_type": "execute_result"
    },
    {
     "data": {
      "image/png": "[encoded data removed]",
      "text/plain": [
       "<matplotlib.figure.Figure at 0x7f71c7875d68>"
      ]
     },
     "metadata": {},
     "output_type": "display_data"
    }
   ],
   "source": [
    "import seaborn as sns\n",
    "sns.heatmap(correlation_top10)"
   ]
  },
  {
   "cell_type": "markdown",
   "metadata": {},
   "source": [
    "It seems that most of the top tags are related with machine learning and specifically deep learning!"
   ]
  },
  {
   "cell_type": "markdown",
   "metadata": {},
   "source": [
    "-------\n",
    "Trend in Deep Learning\n",
    "---------------"
   ]
  },
  {
   "cell_type": "markdown",
   "metadata": {},
   "source": [
    "Could interest in deep learning be slowing down? \n",
    "The file all_questions.csv holds the result of the query below — this query fetches all of the questions ever asked on DSSE, their dates and tags.\n",
    "\n",
    "SELECT Id, CreationDate, Tags\n",
    "  FROM posts\n",
    " WHERE PostTypeId = 1;\n",
    "\n",
    "In this we will track the interest in deep learning across time. We will:\n",
    "\n",
    "Count how many deep learning questions are asked per time period, \n",
    "the total amount of questions per time period and how many deep learning questions there are relative to the total amount of questions per time period."
   ]
  },
  {
   "cell_type": "code",
   "execution_count": 106,
   "metadata": {
    "collapsed": true
   },
   "outputs": [],
   "source": [
    "questDL = pd.read_csv('all_questions.csv', parse_dates=['CreationDate'])"
   ]
  },
  {
   "cell_type": "code",
   "execution_count": 107,
   "metadata": {
    "collapsed": false
   },
   "outputs": [
    {
     "data": {
      "text/html": [
       "<div>\n",
       "<style scoped>\n",
       "    .dataframe tbody tr th:only-of-type {\n",
       "        vertical-align: middle;\n",
       "    }\n",
       "\n",
       "    .dataframe tbody tr th {\n",
       "        vertical-align: top;\n",
       "    }\n",
       "\n",
       "    .dataframe thead th {\n",
       "        text-align: right;\n",
       "    }\n",
       "</style>\n",
       "<table border=\"1\" class=\"dataframe\">\n",
       "  <thead>\n",
       "    <tr style=\"text-align: right;\">\n",
       "      <th></th>\n",
       "      <th>Id</th>\n",
       "      <th>CreationDate</th>\n",
       "      <th>Tags</th>\n",
       "    </tr>\n",
       "  </thead>\n",
       "  <tbody>\n",
       "    <tr>\n",
       "      <th>6633</th>\n",
       "      <td>58296</td>\n",
       "      <td>2019-08-28 02:19:00</td>\n",
       "      <td>&lt;machine-learning&gt;&lt;recommender-system&gt;</td>\n",
       "    </tr>\n",
       "    <tr>\n",
       "      <th>4475</th>\n",
       "      <td>38977</td>\n",
       "      <td>2018-09-30 18:23:21</td>\n",
       "      <td>&lt;python&gt;&lt;r&gt;&lt;xgboost&gt;&lt;boosting&gt;</td>\n",
       "    </tr>\n",
       "    <tr>\n",
       "      <th>1355</th>\n",
       "      <td>25015</td>\n",
       "      <td>2017-11-22 15:48:04</td>\n",
       "      <td>&lt;nlp&gt;</td>\n",
       "    </tr>\n",
       "    <tr>\n",
       "      <th>16617</th>\n",
       "      <td>32009</td>\n",
       "      <td>2018-05-23 03:46:16</td>\n",
       "      <td>&lt;machine-learning&gt;&lt;classification&gt;&lt;categorical...</td>\n",
       "    </tr>\n",
       "    <tr>\n",
       "      <th>16132</th>\n",
       "      <td>11261</td>\n",
       "      <td>2016-04-17 19:07:56</td>\n",
       "      <td>&lt;linear-regression&gt;</td>\n",
       "    </tr>\n",
       "    <tr>\n",
       "      <th>2308</th>\n",
       "      <td>903</td>\n",
       "      <td>2014-08-04 22:27:10</td>\n",
       "      <td>&lt;dataset&gt;&lt;statistics&gt;&lt;ab-test&gt;</td>\n",
       "    </tr>\n",
       "    <tr>\n",
       "      <th>21162</th>\n",
       "      <td>66468</td>\n",
       "      <td>2020-01-14 15:27:08</td>\n",
       "      <td>&lt;dataset&gt;&lt;feature-selection&gt;</td>\n",
       "    </tr>\n",
       "    <tr>\n",
       "      <th>19888</th>\n",
       "      <td>65372</td>\n",
       "      <td>2019-12-24 11:18:34</td>\n",
       "      <td>&lt;machine-learning&gt;&lt;natural-language-process&gt;</td>\n",
       "    </tr>\n",
       "    <tr>\n",
       "      <th>20084</th>\n",
       "      <td>34038</td>\n",
       "      <td>2018-07-05 13:13:41</td>\n",
       "      <td>&lt;python&gt;&lt;classification&gt;&lt;scikit-learn&gt;&lt;random-...</td>\n",
       "    </tr>\n",
       "    <tr>\n",
       "      <th>13230</th>\n",
       "      <td>62047</td>\n",
       "      <td>2019-10-21 17:25:46</td>\n",
       "      <td>&lt;classification&gt;&lt;class-imbalance&gt;</td>\n",
       "    </tr>\n",
       "  </tbody>\n",
       "</table>\n",
       "</div>"
      ],
      "text/plain": [
       "          Id        CreationDate  \\\n",
       "6633   58296 2019-08-28 02:19:00   \n",
       "4475   38977 2018-09-30 18:23:21   \n",
       "1355   25015 2017-11-22 15:48:04   \n",
       "16617  32009 2018-05-23 03:46:16   \n",
       "16132  11261 2016-04-17 19:07:56   \n",
       "2308     903 2014-08-04 22:27:10   \n",
       "21162  66468 2020-01-14 15:27:08   \n",
       "19888  65372 2019-12-24 11:18:34   \n",
       "20084  34038 2018-07-05 13:13:41   \n",
       "13230  62047 2019-10-21 17:25:46   \n",
       "\n",
       "                                                    Tags  \n",
       "6633              <machine-learning><recommender-system>  \n",
       "4475                      <python><r><xgboost><boosting>  \n",
       "1355                                               <nlp>  \n",
       "16617  <machine-learning><classification><categorical...  \n",
       "16132                                <linear-regression>  \n",
       "2308                      <dataset><statistics><ab-test>  \n",
       "21162                       <dataset><feature-selection>  \n",
       "19888       <machine-learning><natural-language-process>  \n",
       "20084  <python><classification><scikit-learn><random-...  \n",
       "13230                  <classification><class-imbalance>  "
      ]
     },
     "execution_count": 107,
     "metadata": {},
     "output_type": "execute_result"
    }
   ],
   "source": [
    "questDL.sample(10)"
   ]
  },
  {
   "cell_type": "code",
   "execution_count": 108,
   "metadata": {
    "collapsed": true
   },
   "outputs": [],
   "source": [
    "questDL['Tags'] = questDL['Tags'].str[1:-1].str.split('><')"
   ]
  },
  {
   "cell_type": "code",
   "execution_count": 109,
   "metadata": {
    "collapsed": false
   },
   "outputs": [
    {
     "data": {
      "text/plain": [
       "11967    [python, classification, optimization, data-sc...\n",
       "6872                               [machine-learning, svm]\n",
       "1599                                              [career]\n",
       "18852                           [word-embeddings, pytorch]\n",
       "20104           [machine-learning, python, classification]\n",
       "4130                                      [python, r, nlp]\n",
       "4580                            [data, sentiment-analysis]\n",
       "2253     [machine-learning, neural-network, cnn, convol...\n",
       "11362    [machine-learning, neural-network, deep-learni...\n",
       "18872    [deep-learning, classification, image-classifi...\n",
       "Name: Tags, dtype: object"
      ]
     },
     "execution_count": 109,
     "metadata": {},
     "output_type": "execute_result"
    }
   ],
   "source": [
    "questDL['Tags'].sample(10)"
   ]
  },
  {
   "cell_type": "code",
   "execution_count": 117,
   "metadata": {
    "collapsed": false
   },
   "outputs": [],
   "source": [
    "dl_tags = [\"lstm\", \"cnn\", \"scikit-learn\", \"tensorflow\", \\\n",
    "           \"keras\", \"neural-network\", \"deep-learning\"]\n",
    "def dl_func(element):\n",
    "    for i in element:\n",
    "        if i in dl_tags:\n",
    "            return 1\n",
    "    return 0\n",
    "\n",
    "questDL['DL'] = questDL['Tags'].apply(dl_func)"
   ]
  },
  {
   "cell_type": "code",
   "execution_count": 122,
   "metadata": {
    "collapsed": false,
    "scrolled": true
   },
   "outputs": [
    {
     "data": {
      "text/html": [
       "<div>\n",
       "<style scoped>\n",
       "    .dataframe tbody tr th:only-of-type {\n",
       "        vertical-align: middle;\n",
       "    }\n",
       "\n",
       "    .dataframe tbody tr th {\n",
       "        vertical-align: top;\n",
       "    }\n",
       "\n",
       "    .dataframe thead th {\n",
       "        text-align: right;\n",
       "    }\n",
       "</style>\n",
       "<table border=\"1\" class=\"dataframe\">\n",
       "  <thead>\n",
       "    <tr style=\"text-align: right;\">\n",
       "      <th></th>\n",
       "      <th>Id</th>\n",
       "      <th>CreationDate</th>\n",
       "      <th>Tags</th>\n",
       "      <th>DL</th>\n",
       "      <th>Year</th>\n",
       "    </tr>\n",
       "  </thead>\n",
       "  <tbody>\n",
       "    <tr>\n",
       "      <th>8714</th>\n",
       "      <td>41246</td>\n",
       "      <td>2018-11-15 03:38:17</td>\n",
       "      <td>[machine-learning, python, deep-learning, mach...</td>\n",
       "      <td>1</td>\n",
       "      <td>2018</td>\n",
       "    </tr>\n",
       "    <tr>\n",
       "      <th>11500</th>\n",
       "      <td>61362</td>\n",
       "      <td>2019-10-07 06:29:26</td>\n",
       "      <td>[ensemble-modeling, ensemble-learning]</td>\n",
       "      <td>0</td>\n",
       "      <td>2019</td>\n",
       "    </tr>\n",
       "    <tr>\n",
       "      <th>2319</th>\n",
       "      <td>937</td>\n",
       "      <td>2014-08-07 15:33:43</td>\n",
       "      <td>[feature-selection, scikit-learn]</td>\n",
       "      <td>1</td>\n",
       "      <td>2014</td>\n",
       "    </tr>\n",
       "    <tr>\n",
       "      <th>7132</th>\n",
       "      <td>17956</td>\n",
       "      <td>2017-03-21 04:14:25</td>\n",
       "      <td>[keras]</td>\n",
       "      <td>1</td>\n",
       "      <td>2017</td>\n",
       "    </tr>\n",
       "    <tr>\n",
       "      <th>8351</th>\n",
       "      <td>49141</td>\n",
       "      <td>2019-04-11 17:33:15</td>\n",
       "      <td>[machine-learning, tensorflow, object-detectio...</td>\n",
       "      <td>1</td>\n",
       "      <td>2019</td>\n",
       "    </tr>\n",
       "    <tr>\n",
       "      <th>12661</th>\n",
       "      <td>61833</td>\n",
       "      <td>2019-10-16 17:40:33</td>\n",
       "      <td>[data, bigdata]</td>\n",
       "      <td>0</td>\n",
       "      <td>2019</td>\n",
       "    </tr>\n",
       "    <tr>\n",
       "      <th>710</th>\n",
       "      <td>55699</td>\n",
       "      <td>2019-07-15 14:19:18</td>\n",
       "      <td>[machine-learning, python, regression, feature...</td>\n",
       "      <td>0</td>\n",
       "      <td>2019</td>\n",
       "    </tr>\n",
       "    <tr>\n",
       "      <th>15247</th>\n",
       "      <td>10884</td>\n",
       "      <td>2016-03-25 05:44:52</td>\n",
       "      <td>[machine-learning, programming]</td>\n",
       "      <td>0</td>\n",
       "      <td>2016</td>\n",
       "    </tr>\n",
       "    <tr>\n",
       "      <th>18838</th>\n",
       "      <td>12797</td>\n",
       "      <td>2016-07-15 10:43:58</td>\n",
       "      <td>[predictive-modeling, scikit-learn, categorica...</td>\n",
       "      <td>1</td>\n",
       "      <td>2016</td>\n",
       "    </tr>\n",
       "    <tr>\n",
       "      <th>19161</th>\n",
       "      <td>54891</td>\n",
       "      <td>2019-07-02 07:25:03</td>\n",
       "      <td>[machine-learning, python, nlp, data-cleaning]</td>\n",
       "      <td>0</td>\n",
       "      <td>2019</td>\n",
       "    </tr>\n",
       "  </tbody>\n",
       "</table>\n",
       "</div>"
      ],
      "text/plain": [
       "          Id        CreationDate  \\\n",
       "8714   41246 2018-11-15 03:38:17   \n",
       "11500  61362 2019-10-07 06:29:26   \n",
       "2319     937 2014-08-07 15:33:43   \n",
       "7132   17956 2017-03-21 04:14:25   \n",
       "8351   49141 2019-04-11 17:33:15   \n",
       "12661  61833 2019-10-16 17:40:33   \n",
       "710    55699 2019-07-15 14:19:18   \n",
       "15247  10884 2016-03-25 05:44:52   \n",
       "18838  12797 2016-07-15 10:43:58   \n",
       "19161  54891 2019-07-02 07:25:03   \n",
       "\n",
       "                                                    Tags  DL  Year  \n",
       "8714   [machine-learning, python, deep-learning, mach...   1  2018  \n",
       "11500             [ensemble-modeling, ensemble-learning]   0  2019  \n",
       "2319                   [feature-selection, scikit-learn]   1  2014  \n",
       "7132                                             [keras]   1  2017  \n",
       "8351   [machine-learning, tensorflow, object-detectio...   1  2019  \n",
       "12661                                    [data, bigdata]   0  2019  \n",
       "710    [machine-learning, python, regression, feature...   0  2019  \n",
       "15247                    [machine-learning, programming]   0  2016  \n",
       "18838  [predictive-modeling, scikit-learn, categorica...   1  2016  \n",
       "19161     [machine-learning, python, nlp, data-cleaning]   0  2019  "
      ]
     },
     "execution_count": 122,
     "metadata": {},
     "output_type": "execute_result"
    }
   ],
   "source": [
    "questDL['Year'] = questDL['CreationDate'].apply(lambda x:x.year)\n",
    "questDL.sample(10)"
   ]
  },
  {
   "cell_type": "code",
   "execution_count": 132,
   "metadata": {
    "collapsed": false
   },
   "outputs": [],
   "source": [
    "sumDL = questDL.groupby('Year')['DL'].sum().to_frame()"
   ]
  },
  {
   "cell_type": "code",
   "execution_count": 134,
   "metadata": {
    "collapsed": false
   },
   "outputs": [],
   "source": [
    "sumDL['total'] = questDL.groupby('Year')['DL'].count()"
   ]
  },
  {
   "cell_type": "code",
   "execution_count": 136,
   "metadata": {
    "collapsed": false
   },
   "outputs": [],
   "source": [
    "sumDL['ratio'] = sumDL['DL'] / sumDL['total'] * 100"
   ]
  },
  {
   "cell_type": "code",
   "execution_count": 137,
   "metadata": {
    "collapsed": false
   },
   "outputs": [
    {
     "data": {
      "text/html": [
       "<div>\n",
       "<style scoped>\n",
       "    .dataframe tbody tr th:only-of-type {\n",
       "        vertical-align: middle;\n",
       "    }\n",
       "\n",
       "    .dataframe tbody tr th {\n",
       "        vertical-align: top;\n",
       "    }\n",
       "\n",
       "    .dataframe thead th {\n",
       "        text-align: right;\n",
       "    }\n",
       "</style>\n",
       "<table border=\"1\" class=\"dataframe\">\n",
       "  <thead>\n",
       "    <tr style=\"text-align: right;\">\n",
       "      <th></th>\n",
       "      <th>DL</th>\n",
       "      <th>total</th>\n",
       "      <th>ratio</th>\n",
       "    </tr>\n",
       "    <tr>\n",
       "      <th>Year</th>\n",
       "      <th></th>\n",
       "      <th></th>\n",
       "      <th></th>\n",
       "    </tr>\n",
       "  </thead>\n",
       "  <tbody>\n",
       "    <tr>\n",
       "      <th>2014</th>\n",
       "      <td>43</td>\n",
       "      <td>562</td>\n",
       "      <td>7.651246</td>\n",
       "    </tr>\n",
       "    <tr>\n",
       "      <th>2015</th>\n",
       "      <td>157</td>\n",
       "      <td>1167</td>\n",
       "      <td>13.453299</td>\n",
       "    </tr>\n",
       "    <tr>\n",
       "      <th>2016</th>\n",
       "      <td>557</td>\n",
       "      <td>2146</td>\n",
       "      <td>25.955266</td>\n",
       "    </tr>\n",
       "    <tr>\n",
       "      <th>2017</th>\n",
       "      <td>1068</td>\n",
       "      <td>2957</td>\n",
       "      <td>36.117687</td>\n",
       "    </tr>\n",
       "    <tr>\n",
       "      <th>2018</th>\n",
       "      <td>2336</td>\n",
       "      <td>5475</td>\n",
       "      <td>42.666667</td>\n",
       "    </tr>\n",
       "    <tr>\n",
       "      <th>2019</th>\n",
       "      <td>3489</td>\n",
       "      <td>8810</td>\n",
       "      <td>39.602724</td>\n",
       "    </tr>\n",
       "    <tr>\n",
       "      <th>2020</th>\n",
       "      <td>168</td>\n",
       "      <td>459</td>\n",
       "      <td>36.601307</td>\n",
       "    </tr>\n",
       "  </tbody>\n",
       "</table>\n",
       "</div>"
      ],
      "text/plain": [
       "        DL  total      ratio\n",
       "Year                        \n",
       "2014    43    562   7.651246\n",
       "2015   157   1167  13.453299\n",
       "2016   557   2146  25.955266\n",
       "2017  1068   2957  36.117687\n",
       "2018  2336   5475  42.666667\n",
       "2019  3489   8810  39.602724\n",
       "2020   168    459  36.601307"
      ]
     },
     "execution_count": 137,
     "metadata": {},
     "output_type": "execute_result"
    }
   ],
   "source": [
    "sumDL"
   ]
  },
  {
   "cell_type": "code",
   "execution_count": 147,
   "metadata": {
    "collapsed": false
   },
   "outputs": [
    {
     "data": {
      "text/plain": [
       "<matplotlib.text.Text at 0x7f71c6e9ddd8>"
      ]
     },
     "execution_count": 147,
     "metadata": {},
     "output_type": "execute_result"
    },
    {
     "data": {
      "image/png": "[encoded data removed]",
      "text/plain": [
       "<matplotlib.figure.Figure at 0x7f71c6ead978>"
      ]
     },
     "metadata": {},
     "output_type": "display_data"
    }
   ],
   "source": [
    "ax = sumDL['ratio'].plot('bar', color='black')\n",
    "ax.set_ylabel('Deep Learning questions (%)')"
   ]
  },
  {
   "cell_type": "markdown",
   "metadata": {},
   "source": [
    "Ratio of questions about Deep-Learning peaked in 2018 and is slightly reducing after but it is still a high percentage of total questions (>35%)"
   ]
  },
  {
   "cell_type": "code",
   "execution_count": null,
   "metadata": {
    "collapsed": true
   },
   "outputs": [],
   "source": []
  }
 ],
 "metadata": {
  "kernelspec": {
   "display_name": "Python 3",
   "language": "python",
   "name": "python3"
  },
  "language_info": {
   "codemirror_mode": {
    "name": "ipython",
    "version": 3
   },
   "file_extension": ".py",
   "mimetype": "text/x-python",
   "name": "python",
   "nbconvert_exporter": "python",
   "pygments_lexer": "ipython3",
   "version": "3.4.3"
  }
 },
 "nbformat": 4,
 "nbformat_minor": 2
}
